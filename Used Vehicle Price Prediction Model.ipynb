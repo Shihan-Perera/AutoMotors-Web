{
 "cells": [
  {
   "cell_type": "markdown",
   "id": "ff6edda3",
   "metadata": {},
   "source": [
    "# Used Vehicle Price Prediction Model"
   ]
  },
  {
   "cell_type": "markdown",
   "id": "48facff3",
   "metadata": {},
   "source": [
    "Main Imports"
   ]
  },
  {
   "cell_type": "code",
   "execution_count": 92,
   "id": "87b110d1",
   "metadata": {},
   "outputs": [],
   "source": [
    "# import required libraries\n",
    "import pandas as pd\n",
    "import numpy as np\n",
    "import seaborn as sns\n",
    "from scipy import stats\n",
    "import copy\n",
    "\n",
    "import matplotlib.gridspec as gridspec\n",
    "import matplotlib.pyplot as plt\n",
    "import matplotlib.style as style\n",
    "%matplotlib inline\n",
    "from mpl_toolkits import mplot3d\n",
    "import pandas_profiling as pp\n",
    "from sklearn.model_selection import train_test_split, cross_val_score, GridSearchCV, StratifiedKFold\n",
    "from sklearn.preprocessing import LabelEncoder, StandardScaler\n",
    "\n",
    "# ml models\n",
    "from sklearn.linear_model import LinearRegression,LogisticRegression, SGDRegressor, RidgeCV\n",
    "\n",
    "from sklearn import preprocessing\n",
    "from sklearn.preprocessing import LabelEncoder, StandardScaler\n",
    "\n",
    "import sklearn.model_selection\n",
    "from sklearn.model_selection import cross_val_predict as cvp\n",
    "\n",
    "from sklearn import metrics\n",
    "from sklearn.metrics import r2_score, mean_absolute_error, mean_squared_error\n",
    "\n",
    "from sklearn.ensemble import RandomForestRegressor\n",
    "from sklearn.svm import SVR, LinearSVR\n",
    "from scipy.stats import pearsonr\n",
    "import lightgbm as lgb\n",
    "\n",
    "import warnings\n",
    "warnings.filterwarnings(\"ignore\")\n",
    "\n",
    "# tuning the model \n",
    "from hyperopt import STATUS_OK, Trials, fmin, hp, tpe, space_eval\n",
    "\n",
    "pd.pandas.set_option('display.max_rows', None)\n",
    "pd.pandas.set_option('display.max_columns', None)\n"
   ]
  },
  {
   "cell_type": "code",
   "execution_count": 93,
   "id": "153a0664",
   "metadata": {},
   "outputs": [],
   "source": [
    "#dataset import\n",
    "df = pd.read_csv('vehicles_price_data.csv')"
   ]
  },
  {
   "cell_type": "code",
   "execution_count": 94,
   "id": "d8770d75",
   "metadata": {},
   "outputs": [],
   "source": [
    "#data set analysis\n",
    "#pp.ProfileReport(df)"
   ]
  },
  {
   "cell_type": "markdown",
   "id": "2f8bfc3e",
   "metadata": {},
   "source": [
    "# Preparing Data"
   ]
  },
  {
   "cell_type": "code",
   "execution_count": 95,
   "id": "b33f8052",
   "metadata": {},
   "outputs": [
    {
     "name": "stdout",
     "output_type": "stream",
     "text": [
      "<class 'pandas.core.frame.DataFrame'>\n",
      "RangeIndex: 101831 entries, 0 to 101830\n",
      "Data columns (total 11 columns):\n",
      " #   Column        Non-Null Count   Dtype  \n",
      "---  ------        --------------   -----  \n",
      " 0   id            101831 non-null  int64  \n",
      " 1   price         101831 non-null  int64  \n",
      " 2   year          101831 non-null  float64\n",
      " 3   manufacturer  101831 non-null  object \n",
      " 4   model         101831 non-null  object \n",
      " 5   condition     101831 non-null  object \n",
      " 6   cylinders     101831 non-null  object \n",
      " 7   fuel          101831 non-null  object \n",
      " 8   odometer      101831 non-null  float64\n",
      " 9   transmission  101831 non-null  object \n",
      " 10  type          101831 non-null  object \n",
      "dtypes: float64(2), int64(2), object(7)\n",
      "memory usage: 8.5+ MB\n",
      "None\n"
     ]
    }
   ],
   "source": [
    "print(df.info())\n",
    "    "
   ]
  },
  {
   "cell_type": "code",
   "execution_count": 96,
   "id": "5f013ddd",
   "metadata": {},
   "outputs": [
    {
     "data": {
      "text/plain": [
       "dtype('int32')"
      ]
     },
     "execution_count": 96,
     "metadata": {},
     "output_type": "execute_result"
    }
   ],
   "source": [
    "df['year'] = df['year'].astype(int)\n",
    "df['year'].dtype"
   ]
  },
  {
   "cell_type": "code",
   "execution_count": 97,
   "id": "305823e1",
   "metadata": {},
   "outputs": [],
   "source": [
    "df = df[df['price'].between(1000, 265000)]"
   ]
  },
  {
   "cell_type": "code",
   "execution_count": 98,
   "id": "3614a91f",
   "metadata": {},
   "outputs": [],
   "source": [
    "df.drop(['id', 'model'], axis = 1, inplace = True) "
   ]
  },
  {
   "cell_type": "code",
   "execution_count": 99,
   "id": "25403a2a",
   "metadata": {},
   "outputs": [
    {
     "data": {
      "text/html": [
       "<div>\n",
       "<style scoped>\n",
       "    .dataframe tbody tr th:only-of-type {\n",
       "        vertical-align: middle;\n",
       "    }\n",
       "\n",
       "    .dataframe tbody tr th {\n",
       "        vertical-align: top;\n",
       "    }\n",
       "\n",
       "    .dataframe thead th {\n",
       "        text-align: right;\n",
       "    }\n",
       "</style>\n",
       "<table border=\"1\" class=\"dataframe\">\n",
       "  <thead>\n",
       "    <tr style=\"text-align: right;\">\n",
       "      <th></th>\n",
       "      <th>price</th>\n",
       "      <th>year</th>\n",
       "      <th>manufacturer</th>\n",
       "      <th>condition</th>\n",
       "      <th>cylinders</th>\n",
       "      <th>fuel</th>\n",
       "      <th>odometer</th>\n",
       "      <th>transmission</th>\n",
       "      <th>type</th>\n",
       "    </tr>\n",
       "  </thead>\n",
       "  <tbody>\n",
       "    <tr>\n",
       "      <th>0</th>\n",
       "      <td>16995</td>\n",
       "      <td>2007</td>\n",
       "      <td>gmc</td>\n",
       "      <td>good</td>\n",
       "      <td>8 cylinders</td>\n",
       "      <td>diesel</td>\n",
       "      <td>254217.0</td>\n",
       "      <td>automatic</td>\n",
       "      <td>truck</td>\n",
       "    </tr>\n",
       "    <tr>\n",
       "      <th>1</th>\n",
       "      <td>13995</td>\n",
       "      <td>2012</td>\n",
       "      <td>ford</td>\n",
       "      <td>good</td>\n",
       "      <td>6 cylinders</td>\n",
       "      <td>gas</td>\n",
       "      <td>188406.0</td>\n",
       "      <td>automatic</td>\n",
       "      <td>truck</td>\n",
       "    </tr>\n",
       "    <tr>\n",
       "      <th>2</th>\n",
       "      <td>7995</td>\n",
       "      <td>2010</td>\n",
       "      <td>chevrolet</td>\n",
       "      <td>good</td>\n",
       "      <td>4 cylinders</td>\n",
       "      <td>gas</td>\n",
       "      <td>108124.0</td>\n",
       "      <td>automatic</td>\n",
       "      <td>SUV</td>\n",
       "    </tr>\n",
       "    <tr>\n",
       "      <th>3</th>\n",
       "      <td>8995</td>\n",
       "      <td>2011</td>\n",
       "      <td>chevrolet</td>\n",
       "      <td>good</td>\n",
       "      <td>6 cylinders</td>\n",
       "      <td>gas</td>\n",
       "      <td>178054.0</td>\n",
       "      <td>automatic</td>\n",
       "      <td>SUV</td>\n",
       "    </tr>\n",
       "    <tr>\n",
       "      <th>4</th>\n",
       "      <td>10995</td>\n",
       "      <td>2014</td>\n",
       "      <td>ford</td>\n",
       "      <td>good</td>\n",
       "      <td>6 cylinders</td>\n",
       "      <td>gas</td>\n",
       "      <td>170259.0</td>\n",
       "      <td>automatic</td>\n",
       "      <td>SUV</td>\n",
       "    </tr>\n",
       "  </tbody>\n",
       "</table>\n",
       "</div>"
      ],
      "text/plain": [
       "   price  year manufacturer condition    cylinders    fuel  odometer  \\\n",
       "0  16995  2007          gmc      good  8 cylinders  diesel  254217.0   \n",
       "1  13995  2012         ford      good  6 cylinders     gas  188406.0   \n",
       "2   7995  2010    chevrolet      good  4 cylinders     gas  108124.0   \n",
       "3   8995  2011    chevrolet      good  6 cylinders     gas  178054.0   \n",
       "4  10995  2014         ford      good  6 cylinders     gas  170259.0   \n",
       "\n",
       "  transmission   type  \n",
       "0    automatic  truck  \n",
       "1    automatic  truck  \n",
       "2    automatic    SUV  \n",
       "3    automatic    SUV  \n",
       "4    automatic    SUV  "
      ]
     },
     "execution_count": 99,
     "metadata": {},
     "output_type": "execute_result"
    }
   ],
   "source": [
    "df.head()"
   ]
  },
  {
   "cell_type": "code",
   "execution_count": 100,
   "id": "a7bf7b19",
   "metadata": {},
   "outputs": [],
   "source": [
    "df.reset_index(drop=True, inplace=True)"
   ]
  },
  {
   "cell_type": "code",
   "execution_count": 101,
   "id": "3cb2ba0f",
   "metadata": {},
   "outputs": [
    {
     "data": {
      "text/html": [
       "<div>\n",
       "<style scoped>\n",
       "    .dataframe tbody tr th:only-of-type {\n",
       "        vertical-align: middle;\n",
       "    }\n",
       "\n",
       "    .dataframe tbody tr th {\n",
       "        vertical-align: top;\n",
       "    }\n",
       "\n",
       "    .dataframe thead th {\n",
       "        text-align: right;\n",
       "    }\n",
       "</style>\n",
       "<table border=\"1\" class=\"dataframe\">\n",
       "  <thead>\n",
       "    <tr style=\"text-align: right;\">\n",
       "      <th></th>\n",
       "      <th>price</th>\n",
       "      <th>year</th>\n",
       "      <th>manufacturer</th>\n",
       "      <th>condition</th>\n",
       "      <th>cylinders</th>\n",
       "      <th>fuel</th>\n",
       "      <th>odometer</th>\n",
       "      <th>transmission</th>\n",
       "      <th>type</th>\n",
       "    </tr>\n",
       "  </thead>\n",
       "  <tbody>\n",
       "    <tr>\n",
       "      <th>0</th>\n",
       "      <td>16995</td>\n",
       "      <td>2007</td>\n",
       "      <td>gmc</td>\n",
       "      <td>good</td>\n",
       "      <td>8 cylinders</td>\n",
       "      <td>diesel</td>\n",
       "      <td>254217.0</td>\n",
       "      <td>automatic</td>\n",
       "      <td>truck</td>\n",
       "    </tr>\n",
       "    <tr>\n",
       "      <th>1</th>\n",
       "      <td>13995</td>\n",
       "      <td>2012</td>\n",
       "      <td>ford</td>\n",
       "      <td>good</td>\n",
       "      <td>6 cylinders</td>\n",
       "      <td>gas</td>\n",
       "      <td>188406.0</td>\n",
       "      <td>automatic</td>\n",
       "      <td>truck</td>\n",
       "    </tr>\n",
       "    <tr>\n",
       "      <th>2</th>\n",
       "      <td>7995</td>\n",
       "      <td>2010</td>\n",
       "      <td>chevrolet</td>\n",
       "      <td>good</td>\n",
       "      <td>4 cylinders</td>\n",
       "      <td>gas</td>\n",
       "      <td>108124.0</td>\n",
       "      <td>automatic</td>\n",
       "      <td>SUV</td>\n",
       "    </tr>\n",
       "    <tr>\n",
       "      <th>3</th>\n",
       "      <td>8995</td>\n",
       "      <td>2011</td>\n",
       "      <td>chevrolet</td>\n",
       "      <td>good</td>\n",
       "      <td>6 cylinders</td>\n",
       "      <td>gas</td>\n",
       "      <td>178054.0</td>\n",
       "      <td>automatic</td>\n",
       "      <td>SUV</td>\n",
       "    </tr>\n",
       "    <tr>\n",
       "      <th>4</th>\n",
       "      <td>10995</td>\n",
       "      <td>2014</td>\n",
       "      <td>ford</td>\n",
       "      <td>good</td>\n",
       "      <td>6 cylinders</td>\n",
       "      <td>gas</td>\n",
       "      <td>170259.0</td>\n",
       "      <td>automatic</td>\n",
       "      <td>SUV</td>\n",
       "    </tr>\n",
       "  </tbody>\n",
       "</table>\n",
       "</div>"
      ],
      "text/plain": [
       "   price  year manufacturer condition    cylinders    fuel  odometer  \\\n",
       "0  16995  2007          gmc      good  8 cylinders  diesel  254217.0   \n",
       "1  13995  2012         ford      good  6 cylinders     gas  188406.0   \n",
       "2   7995  2010    chevrolet      good  4 cylinders     gas  108124.0   \n",
       "3   8995  2011    chevrolet      good  6 cylinders     gas  178054.0   \n",
       "4  10995  2014         ford      good  6 cylinders     gas  170259.0   \n",
       "\n",
       "  transmission   type  \n",
       "0    automatic  truck  \n",
       "1    automatic  truck  \n",
       "2    automatic    SUV  \n",
       "3    automatic    SUV  \n",
       "4    automatic    SUV  "
      ]
     },
     "execution_count": 101,
     "metadata": {},
     "output_type": "execute_result"
    }
   ],
   "source": [
    "df.head()"
   ]
  },
  {
   "cell_type": "code",
   "execution_count": 102,
   "id": "bde4c5e8",
   "metadata": {},
   "outputs": [],
   "source": [
    "options = ['ford', 'jeep','chevrolet','nissan','toyota','honda','audi','dodge','gmc','ram']\n",
    "df = df.loc[df['manufacturer'].isin(options)]"
   ]
  },
  {
   "cell_type": "code",
   "execution_count": 103,
   "id": "5f9f0492",
   "metadata": {},
   "outputs": [
    {
     "data": {
      "text/plain": [
       "array(['truck', 'SUV', 'mini-van', 'sedan', 'coupe', 'pickup', 'wagon',\n",
       "       'van', 'other', 'convertible', 'hatchback', 'bus', 'offroad'],\n",
       "      dtype=object)"
      ]
     },
     "execution_count": 103,
     "metadata": {},
     "output_type": "execute_result"
    }
   ],
   "source": [
    "df.type.unique()"
   ]
  },
  {
   "cell_type": "code",
   "execution_count": 104,
   "id": "8e119d74",
   "metadata": {},
   "outputs": [],
   "source": [
    "options = ['truck', 'SUV','sedan','pickup','wagon','coupe','hatchback','van','mini-van']\n",
    "df = df.loc[df['type'].isin(options)]"
   ]
  },
  {
   "cell_type": "code",
   "execution_count": 105,
   "id": "de38b461",
   "metadata": {},
   "outputs": [
    {
     "data": {
      "text/plain": [
       "(63991, 9)"
      ]
     },
     "execution_count": 105,
     "metadata": {},
     "output_type": "execute_result"
    }
   ],
   "source": [
    "df.shape"
   ]
  },
  {
   "cell_type": "markdown",
   "id": "85c35f16",
   "metadata": {},
   "source": [
    "# Lablel Encoding"
   ]
  },
  {
   "cell_type": "code",
   "execution_count": 106,
   "id": "bd055ddc",
   "metadata": {},
   "outputs": [
    {
     "data": {
      "text/plain": [
       "array(['gmc', 'ford', 'chevrolet', 'ram', 'nissan', 'dodge', 'toyota',\n",
       "       'audi', 'jeep', 'honda'], dtype=object)"
      ]
     },
     "execution_count": 106,
     "metadata": {},
     "output_type": "execute_result"
    }
   ],
   "source": [
    "#manufacturer\n",
    "df.manufacturer.unique()"
   ]
  },
  {
   "cell_type": "code",
   "execution_count": 107,
   "id": "0b8796eb",
   "metadata": {},
   "outputs": [],
   "source": [
    "manu_encode = {\"manufacturer\":     {\"chevrolet\": 1, \"ford\": 2,\"nissan\":3 , \"jeep\": 4,\"toyota\" :5,\"honda\" : 6,\"audi\" : 7,\"gmc\" :8,\"ram\" :9, \"dodge\" : 10,},}\n",
    "\n",
    "\n",
    "df = df.replace(manu_encode)"
   ]
  },
  {
   "cell_type": "code",
   "execution_count": 108,
   "id": "471add8e",
   "metadata": {},
   "outputs": [],
   "source": [
    "# condition\n",
    "condition_encode = {\"condition\": {\"new\":1,\"like new\":2,\"excellent\":3,\"good\":4,\"fair\":5,\"salvage\":6, }}\n",
    "\n",
    "df = df.replace(condition_encode)"
   ]
  },
  {
   "cell_type": "code",
   "execution_count": 109,
   "id": "6d1530b9",
   "metadata": {},
   "outputs": [],
   "source": [
    "#cylinders\n",
    "cylinders_encode = {\"cylinders\": {\"3 cylinders\":1,\"4 cylinders\":2,\"5 cylinders\":3,\"6 cylinders\":4,\"8 cylinders\":5,\"10 cylinders\":6,\"12 cylinders\": 7,\"other\":8 }}\n",
    "\n",
    "df = df.replace(cylinders_encode)"
   ]
  },
  {
   "cell_type": "code",
   "execution_count": 110,
   "id": "ce3c5342",
   "metadata": {},
   "outputs": [],
   "source": [
    "#fuel\n",
    "fuel_encode = {\"fuel\": {\"gas\":1,\"diesel\":2,\"hybrid\":3,\"electric\":4,\"other\":5}}\n",
    "\n",
    "df = df.replace(fuel_encode)"
   ]
  },
  {
   "cell_type": "code",
   "execution_count": 111,
   "id": "0021b20c",
   "metadata": {},
   "outputs": [],
   "source": [
    "#transmission\n",
    "transmission_encode = {\"transmission\": {\"automatic\":1,\"manual\":2,\"other\":3,}}\n",
    "\n",
    "df = df.replace(transmission_encode)"
   ]
  },
  {
   "cell_type": "code",
   "execution_count": 112,
   "id": "f1977d1a",
   "metadata": {},
   "outputs": [],
   "source": [
    "#type\n",
    "type_encode = {\"type\": {\"truck\":1,\"SUV\":2,\"sedan\":3,\"pickup\":4,\"wagon\":5,\"coupe\":6,\"hatchback\":7,\"van\":8,\"mini-van\":9,}}\n",
    "\n",
    "df = df.replace(type_encode)"
   ]
  },
  {
   "cell_type": "code",
   "execution_count": 113,
   "id": "e5ffb3c5",
   "metadata": {},
   "outputs": [
    {
     "name": "stdout",
     "output_type": "stream",
     "text": [
      "<class 'pandas.core.frame.DataFrame'>\n",
      "Int64Index: 63991 entries, 0 to 95766\n",
      "Data columns (total 9 columns):\n",
      " #   Column        Non-Null Count  Dtype  \n",
      "---  ------        --------------  -----  \n",
      " 0   price         63991 non-null  int64  \n",
      " 1   year          63991 non-null  int32  \n",
      " 2   manufacturer  63991 non-null  int64  \n",
      " 3   condition     63991 non-null  int64  \n",
      " 4   cylinders     63991 non-null  int64  \n",
      " 5   fuel          63991 non-null  int64  \n",
      " 6   odometer      63991 non-null  float64\n",
      " 7   transmission  63991 non-null  int64  \n",
      " 8   type          63991 non-null  int64  \n",
      "dtypes: float64(1), int32(1), int64(7)\n",
      "memory usage: 4.6 MB\n",
      "None\n"
     ]
    }
   ],
   "source": [
    "print(df.info())"
   ]
  },
  {
   "cell_type": "code",
   "execution_count": 114,
   "id": "5a034fae",
   "metadata": {},
   "outputs": [
    {
     "data": {
      "text/html": [
       "<div>\n",
       "<style scoped>\n",
       "    .dataframe tbody tr th:only-of-type {\n",
       "        vertical-align: middle;\n",
       "    }\n",
       "\n",
       "    .dataframe tbody tr th {\n",
       "        vertical-align: top;\n",
       "    }\n",
       "\n",
       "    .dataframe thead th {\n",
       "        text-align: right;\n",
       "    }\n",
       "</style>\n",
       "<table border=\"1\" class=\"dataframe\">\n",
       "  <thead>\n",
       "    <tr style=\"text-align: right;\">\n",
       "      <th></th>\n",
       "      <th>price</th>\n",
       "      <th>year</th>\n",
       "      <th>manufacturer</th>\n",
       "      <th>condition</th>\n",
       "      <th>cylinders</th>\n",
       "      <th>fuel</th>\n",
       "      <th>odometer</th>\n",
       "      <th>transmission</th>\n",
       "      <th>type</th>\n",
       "    </tr>\n",
       "  </thead>\n",
       "  <tbody>\n",
       "    <tr>\n",
       "      <th>0</th>\n",
       "      <td>16995</td>\n",
       "      <td>2007</td>\n",
       "      <td>8</td>\n",
       "      <td>4</td>\n",
       "      <td>5</td>\n",
       "      <td>2</td>\n",
       "      <td>254217.0</td>\n",
       "      <td>1</td>\n",
       "      <td>1</td>\n",
       "    </tr>\n",
       "    <tr>\n",
       "      <th>1</th>\n",
       "      <td>13995</td>\n",
       "      <td>2012</td>\n",
       "      <td>2</td>\n",
       "      <td>4</td>\n",
       "      <td>4</td>\n",
       "      <td>1</td>\n",
       "      <td>188406.0</td>\n",
       "      <td>1</td>\n",
       "      <td>1</td>\n",
       "    </tr>\n",
       "    <tr>\n",
       "      <th>2</th>\n",
       "      <td>7995</td>\n",
       "      <td>2010</td>\n",
       "      <td>1</td>\n",
       "      <td>4</td>\n",
       "      <td>2</td>\n",
       "      <td>1</td>\n",
       "      <td>108124.0</td>\n",
       "      <td>1</td>\n",
       "      <td>2</td>\n",
       "    </tr>\n",
       "    <tr>\n",
       "      <th>3</th>\n",
       "      <td>8995</td>\n",
       "      <td>2011</td>\n",
       "      <td>1</td>\n",
       "      <td>4</td>\n",
       "      <td>4</td>\n",
       "      <td>1</td>\n",
       "      <td>178054.0</td>\n",
       "      <td>1</td>\n",
       "      <td>2</td>\n",
       "    </tr>\n",
       "    <tr>\n",
       "      <th>4</th>\n",
       "      <td>10995</td>\n",
       "      <td>2014</td>\n",
       "      <td>2</td>\n",
       "      <td>4</td>\n",
       "      <td>4</td>\n",
       "      <td>1</td>\n",
       "      <td>170259.0</td>\n",
       "      <td>1</td>\n",
       "      <td>2</td>\n",
       "    </tr>\n",
       "  </tbody>\n",
       "</table>\n",
       "</div>"
      ],
      "text/plain": [
       "   price  year  manufacturer  condition  cylinders  fuel  odometer  \\\n",
       "0  16995  2007             8          4          5     2  254217.0   \n",
       "1  13995  2012             2          4          4     1  188406.0   \n",
       "2   7995  2010             1          4          2     1  108124.0   \n",
       "3   8995  2011             1          4          4     1  178054.0   \n",
       "4  10995  2014             2          4          4     1  170259.0   \n",
       "\n",
       "   transmission  type  \n",
       "0             1     1  \n",
       "1             1     1  \n",
       "2             1     2  \n",
       "3             1     2  \n",
       "4             1     2  "
      ]
     },
     "execution_count": 114,
     "metadata": {},
     "output_type": "execute_result"
    }
   ],
   "source": [
    "df.head()"
   ]
  },
  {
   "cell_type": "markdown",
   "id": "4593702c",
   "metadata": {},
   "source": [
    "# ML Models"
   ]
  },
  {
   "cell_type": "code",
   "execution_count": 115,
   "id": "f1ab5bfc",
   "metadata": {},
   "outputs": [],
   "source": [
    "#dropping target value\n",
    "target_name = 'price'\n",
    "train_target0 = df[target_name]\n",
    "df = df.drop([target_name], axis=1)"
   ]
  },
  {
   "cell_type": "code",
   "execution_count": 116,
   "id": "16ca66cd",
   "metadata": {},
   "outputs": [],
   "source": [
    "# train test split\n",
    "df, test0, train_target0, test_target0 = train_test_split(df, train_target0, test_size=0.2, random_state=0)"
   ]
  },
  {
   "cell_type": "code",
   "execution_count": 117,
   "id": "f11ec7ab",
   "metadata": {},
   "outputs": [],
   "source": [
    "# Data splitting For boosting model\n",
    "train0b = df\n",
    "train_target0b = train_target0\n",
    "\n",
    "trainb, testb, targetb, target_testb = train_test_split(train0b, train_target0b, test_size=0.3, random_state=0)"
   ]
  },
  {
   "cell_type": "code",
   "execution_count": 118,
   "id": "c35edd46",
   "metadata": {},
   "outputs": [],
   "source": [
    "# For boosting model\n",
    "train0b = df\n",
    "train_target0b = train_target0\n",
    "# Synthesis valid as test for selection models\n",
    "trainb, testb, targetb, target_testb = train_test_split(train0b, train_target0b, test_size=0.3, random_state=0)"
   ]
  },
  {
   "cell_type": "code",
   "execution_count": 119,
   "id": "7e18f07a",
   "metadata": {},
   "outputs": [],
   "source": [
    "scaler = StandardScaler()\n",
    "df = pd.DataFrame(scaler.fit_transform(df), columns = df.columns)"
   ]
  },
  {
   "cell_type": "code",
   "execution_count": 120,
   "id": "bce2583d",
   "metadata": {},
   "outputs": [
    {
     "data": {
      "text/html": [
       "<div>\n",
       "<style scoped>\n",
       "    .dataframe tbody tr th:only-of-type {\n",
       "        vertical-align: middle;\n",
       "    }\n",
       "\n",
       "    .dataframe tbody tr th {\n",
       "        vertical-align: top;\n",
       "    }\n",
       "\n",
       "    .dataframe thead th {\n",
       "        text-align: right;\n",
       "    }\n",
       "</style>\n",
       "<table border=\"1\" class=\"dataframe\">\n",
       "  <thead>\n",
       "    <tr style=\"text-align: right;\">\n",
       "      <th></th>\n",
       "      <th>year</th>\n",
       "      <th>manufacturer</th>\n",
       "      <th>condition</th>\n",
       "      <th>cylinders</th>\n",
       "      <th>fuel</th>\n",
       "      <th>odometer</th>\n",
       "      <th>transmission</th>\n",
       "      <th>type</th>\n",
       "    </tr>\n",
       "  </thead>\n",
       "  <tbody>\n",
       "    <tr>\n",
       "      <th>0</th>\n",
       "      <td>-0.433291</td>\n",
       "      <td>-0.687114</td>\n",
       "      <td>0.900254</td>\n",
       "      <td>1.051079</td>\n",
       "      <td>-0.268173</td>\n",
       "      <td>0.240225</td>\n",
       "      <td>-0.321815</td>\n",
       "      <td>0.329469</td>\n",
       "    </tr>\n",
       "    <tr>\n",
       "      <th>1</th>\n",
       "      <td>-1.651094</td>\n",
       "      <td>-1.048640</td>\n",
       "      <td>-0.469757</td>\n",
       "      <td>0.250013</td>\n",
       "      <td>-0.268173</td>\n",
       "      <td>-0.874214</td>\n",
       "      <td>1.822443</td>\n",
       "      <td>0.329469</td>\n",
       "    </tr>\n",
       "    <tr>\n",
       "      <th>2</th>\n",
       "      <td>0.784511</td>\n",
       "      <td>-0.687114</td>\n",
       "      <td>0.900254</td>\n",
       "      <td>-1.352121</td>\n",
       "      <td>-0.268173</td>\n",
       "      <td>-0.471296</td>\n",
       "      <td>-0.321815</td>\n",
       "      <td>-0.140263</td>\n",
       "    </tr>\n",
       "  </tbody>\n",
       "</table>\n",
       "</div>"
      ],
      "text/plain": [
       "       year  manufacturer  condition  cylinders      fuel  odometer  \\\n",
       "0 -0.433291     -0.687114   0.900254   1.051079 -0.268173  0.240225   \n",
       "1 -1.651094     -1.048640  -0.469757   0.250013 -0.268173 -0.874214   \n",
       "2  0.784511     -0.687114   0.900254  -1.352121 -0.268173 -0.471296   \n",
       "\n",
       "   transmission      type  \n",
       "0     -0.321815  0.329469  \n",
       "1      1.822443  0.329469  \n",
       "2     -0.321815 -0.140263  "
      ]
     },
     "execution_count": 120,
     "metadata": {},
     "output_type": "execute_result"
    }
   ],
   "source": [
    "df.head(3)"
   ]
  },
  {
   "cell_type": "code",
   "execution_count": 121,
   "id": "8ad66956",
   "metadata": {},
   "outputs": [],
   "source": [
    "#  test for selection models\n",
    "train, test, target, target_test = train_test_split(df, train_target0, test_size=0.3, random_state=0)"
   ]
  },
  {
   "cell_type": "code",
   "execution_count": 122,
   "id": "d06b10fc",
   "metadata": {},
   "outputs": [],
   "source": [
    "#For models from Sklearn\n",
    "testn = pd.DataFrame(scaler.transform(test0), columns = test0.columns)"
   ]
  },
  {
   "cell_type": "code",
   "execution_count": 123,
   "id": "8006d8e0",
   "metadata": {},
   "outputs": [],
   "source": [
    "acc_train_r2 = []\n",
    "acc_test_r2 = []\n",
    "acc_train_d = []\n",
    "acc_test_d = []\n",
    "acc_train_rmse = []\n",
    "acc_test_rmse = []"
   ]
  },
  {
   "cell_type": "code",
   "execution_count": 124,
   "id": "386661c5",
   "metadata": {},
   "outputs": [],
   "source": [
    "def acc_d(y_meas, y_pred):\n",
    "    # Relative error between predicted y_pred and measured y_meas values\n",
    "    return mean_absolute_error(y_meas, y_pred)*len(y_meas)/sum(abs(y_meas))\n",
    "\n",
    "def acc_rmse(y_meas, y_pred):\n",
    "    # RMSE between predicted y_pred and measured y_meas values\n",
    "    return (mean_squared_error(y_meas, y_pred))**0.5"
   ]
  },
  {
   "cell_type": "code",
   "execution_count": 125,
   "id": "94847b16",
   "metadata": {},
   "outputs": [],
   "source": [
    "\n",
    "def acc_boosting_model(num,model,train,test,num_iteration=0):\n",
    "    # Calculation of accuracy of boosting model by different metrics\n",
    "    \n",
    "    global acc_train_r2, acc_test_r2, acc_train_d, acc_test_d, acc_train_rmse, acc_test_rmse\n",
    "    \n",
    "    if num_iteration > 0:\n",
    "        ytrain = model.predict(train, num_iteration = num_iteration)  \n",
    "        ytest = model.predict(test, num_iteration = num_iteration)\n",
    "    else:\n",
    "        ytrain = model.predict(train)  \n",
    "        ytest = model.predict(test)\n",
    "\n",
    "    print('target = ', targetb[:5].values)\n",
    "    print('ytrain = ', ytrain[:5])\n",
    "\n",
    "    acc_train_r2_num = round(r2_score(targetb, ytrain) * 100, 2)\n",
    "    print('acc(r2_score) for train =', acc_train_r2_num)   \n",
    "    acc_train_r2.insert(num, acc_train_r2_num)\n",
    "\n",
    "    acc_train_d_num = round(acc_d(targetb, ytrain) * 100, 2)\n",
    "    print('acc(relative error) for train =', acc_train_d_num)   \n",
    "    acc_train_d.insert(num, acc_train_d_num)\n",
    "\n",
    "    acc_train_rmse_num = round(acc_rmse(targetb, ytrain) * 100, 2)\n",
    "    print('acc(rmse) for train =', acc_train_rmse_num)   \n",
    "    acc_train_rmse.insert(num, acc_train_rmse_num)\n",
    "\n",
    "    print('target_test =', target_testb[:5].values)\n",
    "    print('ytest =', ytest[:5])\n",
    "    \n",
    "    acc_test_r2_num = round(r2_score(target_testb, ytest) * 100, 2)\n",
    "    print('acc(r2_score) for test =', acc_test_r2_num)\n",
    "    acc_test_r2.insert(num, acc_test_r2_num)\n",
    "    \n",
    "    acc_test_d_num = round(acc_d(target_testb, ytest) * 100, 2)\n",
    "    print('acc(relative error) for test =', acc_test_d_num)\n",
    "    acc_test_d.insert(num, acc_test_d_num)\n",
    "    \n",
    "    acc_test_rmse_num = round(acc_rmse(target_testb, ytest) * 100, 2)\n",
    "    print('acc(rmse) for test =', acc_test_rmse_num)\n",
    "    acc_test_rmse.insert(num, acc_test_rmse_num)"
   ]
  },
  {
   "cell_type": "code",
   "execution_count": 126,
   "id": "2685e196",
   "metadata": {},
   "outputs": [],
   "source": [
    "def acc_model(num,model,train,test):\n",
    "    # Calculation of accuracy of model from Sklearn by different metrics   \n",
    "  \n",
    "    global acc_train_r2, acc_test_r2, acc_train_d, acc_test_d, acc_train_rmse, acc_test_rmse\n",
    "    \n",
    "    ytrain = model.predict(train)  \n",
    "    ytest = model.predict(test)\n",
    "\n",
    "    print('target = ', target[:5].values)\n",
    "    print('ytrain = ', ytrain[:5])\n",
    "\n",
    "    acc_train_r2_num = round(r2_score(target, ytrain) * 100, 2)\n",
    "    print('acc(r2_score) for train =', acc_train_r2_num)   \n",
    "    acc_train_r2.insert(num, acc_train_r2_num)\n",
    "\n",
    "    acc_train_d_num = round(acc_d(target, ytrain) * 100, 2)\n",
    "    print('acc(relative error) for train =', acc_train_d_num)   \n",
    "    acc_train_d.insert(num, acc_train_d_num)\n",
    "\n",
    "    acc_train_rmse_num = round(acc_rmse(target, ytrain) * 100, 2)\n",
    "    print('acc(rmse) for train =', acc_train_rmse_num)   \n",
    "    acc_train_rmse.insert(num, acc_train_rmse_num)\n",
    "\n",
    "    print('target_test =', target_test[:5].values)\n",
    "    print('ytest =', ytest[:5])\n",
    "    \n",
    "    acc_test_r2_num = round(r2_score(target_test, ytest) * 100, 2)\n",
    "    print('acc(r2_score) for test =', acc_test_r2_num)\n",
    "    acc_test_r2.insert(num, acc_test_r2_num)\n",
    "    \n",
    "    acc_test_d_num = round(acc_d(target_test, ytest) * 100, 2)\n",
    "    print('acc(relative error) for test =', acc_test_d_num)\n",
    "    acc_test_d.insert(num, acc_test_d_num)\n",
    "    \n",
    "    acc_test_rmse_num = round(acc_rmse(target_test, ytest) * 100, 2)\n",
    "    print('acc(rmse) for test =', acc_test_rmse_num)\n",
    "    acc_test_rmse.insert(num, acc_test_rmse_num)"
   ]
  },
  {
   "cell_type": "code",
   "execution_count": 127,
   "id": "d3f81120",
   "metadata": {},
   "outputs": [
    {
     "name": "stdout",
     "output_type": "stream",
     "text": [
      "target =  [11990  9000 33590 39590  4000]\n",
      "ytrain =  [11599.69       10458.65       33037.2        39573.03809524\n",
      "  4793.99866667]\n",
      "acc(r2_score) for train = 97.29\n",
      "acc(relative error) for train = 6.11\n",
      "acc(rmse) for train = 188709.65\n",
      "target_test = [ 9995 37988  2495 14900 39000]\n",
      "ytest = [ 9238.24       18067.72        3519.01666667  9996.49\n",
      " 34042.19666667]\n",
      "acc(r2_score) for test = 85.59\n",
      "acc(relative error) for test = 16.0\n",
      "acc(rmse) for test = 429896.48\n"
     ]
    }
   ],
   "source": [
    "random_forest = RandomForestRegressor()\n",
    "random_forest.fit(train, target)\n",
    "acc_model(1,random_forest,train,test)"
   ]
  },
  {
   "cell_type": "code",
   "execution_count": 128,
   "id": "11d6e606",
   "metadata": {},
   "outputs": [],
   "source": [
    "Xtrain, Xval, Ztrain, Zval = train_test_split(trainb, targetb, test_size=0.2, random_state=0)\n",
    "train_set = lgb.Dataset(Xtrain, Ztrain, silent=False)\n",
    "valid_set = lgb.Dataset(Xval, Zval, silent=False)"
   ]
  },
  {
   "cell_type": "code",
   "execution_count": 129,
   "id": "c086d82d",
   "metadata": {},
   "outputs": [
    {
     "name": "stdout",
     "output_type": "stream",
     "text": [
      "[LightGBM] [Warning] bagging_fraction is set=1, subsample=0.8 will be ignored. Current value: bagging_fraction=1\n",
      "[LightGBM] [Warning] bagging_fraction is set=1, subsample=0.8 will be ignored. Current value: bagging_fraction=1\n",
      "[LightGBM] [Warning] Auto-choosing col-wise multi-threading, the overhead of testing was 0.001586 seconds.\n",
      "You can set `force_col_wise=true` to remove the overhead.\n",
      "[LightGBM] [Info] Total Bins 5115\n",
      "[LightGBM] [Info] Number of data points in the train set: 28667, number of used features: 8\n",
      "[LightGBM] [Warning] bagging_fraction is set=1, subsample=0.8 will be ignored. Current value: bagging_fraction=1\n",
      "[LightGBM] [Info] Start training from score 14040.423204\n",
      "Training until validation scores don't improve for 8000 rounds\n",
      "[500]\tvalid_0's rmse: 5154.59\n",
      "[1000]\tvalid_0's rmse: 5005.55\n",
      "[1500]\tvalid_0's rmse: 4956.93\n",
      "[2000]\tvalid_0's rmse: 4926.56\n",
      "[2500]\tvalid_0's rmse: 4910.75\n",
      "[3000]\tvalid_0's rmse: 4893.36\n",
      "[3500]\tvalid_0's rmse: 4880.64\n",
      "[4000]\tvalid_0's rmse: 4867.21\n",
      "[4500]\tvalid_0's rmse: 4855.51\n",
      "[5000]\tvalid_0's rmse: 4844.41\n",
      "[5500]\tvalid_0's rmse: 4833.55\n",
      "[6000]\tvalid_0's rmse: 4823.74\n",
      "[6500]\tvalid_0's rmse: 4816.82\n",
      "[7000]\tvalid_0's rmse: 4807.64\n",
      "[7500]\tvalid_0's rmse: 4800.74\n",
      "[8000]\tvalid_0's rmse: 4796.16\n",
      "[8500]\tvalid_0's rmse: 4786.31\n",
      "[9000]\tvalid_0's rmse: 4781.5\n",
      "[9500]\tvalid_0's rmse: 4775.76\n",
      "[10000]\tvalid_0's rmse: 4773.35\n",
      "Did not meet early stopping. Best iteration is:\n",
      "[10000]\tvalid_0's rmse: 4773.35\n"
     ]
    }
   ],
   "source": [
    "params = {\n",
    "        'boosting_type':'gbdt',\n",
    "        'objective': 'regression',\n",
    "        'num_leaves': 31,\n",
    "        'learning_rate': 0.01,\n",
    "        'max_depth': -1,\n",
    "        'subsample': 0.8,\n",
    "        'bagging_fraction' : 1,\n",
    "        'max_bin' : 5000 ,\n",
    "        'bagging_freq': 20,\n",
    "        'colsample_bytree': 0.6,\n",
    "        'metric': 'rmse',\n",
    "        'min_split_gain': 0.5,\n",
    "        'min_child_weight': 1,\n",
    "        'min_child_samples': 10,\n",
    "        'scale_pos_weight':1,\n",
    "        'zero_as_missing': False,\n",
    "        'seed':0,        \n",
    "    }\n",
    "modelL = lgb.train(params, train_set = train_set, num_boost_round=10000,\n",
    "                   early_stopping_rounds=8000,verbose_eval=500, valid_sets=valid_set)"
   ]
  },
  {
   "cell_type": "code",
   "execution_count": 130,
   "id": "f72b52c8",
   "metadata": {},
   "outputs": [
    {
     "name": "stdout",
     "output_type": "stream",
     "text": [
      "target =  [11990  9000 33590 39590  4000]\n",
      "ytrain =  [11883.57721347 13032.45062977 30758.48363977 38890.15027565\n",
      "  5555.18265201]\n",
      "acc(r2_score) for train = 90.11\n",
      "acc(relative error) for train = 14.95\n",
      "acc(rmse) for train = 360762.76\n",
      "target_test = [ 9995 37988  2495 14900 39000]\n",
      "ytest = [10405.5754032  16505.56230829  3173.81240364 12485.43546856\n",
      " 36346.60756965]\n",
      "acc(r2_score) for test = 84.79\n",
      "acc(relative error) for test = 18.24\n",
      "acc(rmse) for test = 441708.94\n"
     ]
    }
   ],
   "source": [
    "acc_boosting_model(3,modelL,trainb,testb,modelL.best_iteration)"
   ]
  },
  {
   "cell_type": "code",
   "execution_count": 131,
   "id": "dd1d1cd8",
   "metadata": {},
   "outputs": [
    {
     "data": {
      "image/png": "[encoded data removed]",
      "text/plain": [
       "<Figure size 360x360 with 1 Axes>"
      ]
     },
     "metadata": {
      "needs_background": "light"
     },
     "output_type": "display_data"
    }
   ],
   "source": [
    "fig =  plt.figure(figsize = (5,5))\n",
    "axes = fig.add_subplot(111)\n",
    "lgb.plot_importance(modelL,ax = axes,height = 0.5)\n",
    "plt.show();\n",
    "plt.close()"
   ]
  },
  {
   "cell_type": "code",
   "execution_count": 132,
   "id": "c818e92e",
   "metadata": {},
   "outputs": [],
   "source": [
    "#For models from Sklearn\n",
    "testn = pd.DataFrame(scaler.transform(test0), columns = test0.columns)"
   ]
  },
  {
   "cell_type": "code",
   "execution_count": 133,
   "id": "e24ba9ef",
   "metadata": {},
   "outputs": [
    {
     "data": {
      "text/plain": [
       "array([11882.32775075,  7543.7076183 ,  4974.83393944])"
      ]
     },
     "execution_count": 133,
     "metadata": {},
     "output_type": "execute_result"
    }
   ],
   "source": [
    "# LGB Regression model train\n",
    "lgb_predict = modelL.predict(test0)\n",
    "lgb_predict[:3]"
   ]
  },
  {
   "cell_type": "code",
   "execution_count": 134,
   "id": "0f32ee5b",
   "metadata": {},
   "outputs": [
    {
     "data": {
      "text/html": [
       "<div>\n",
       "<style scoped>\n",
       "    .dataframe tbody tr th:only-of-type {\n",
       "        vertical-align: middle;\n",
       "    }\n",
       "\n",
       "    .dataframe tbody tr th {\n",
       "        vertical-align: top;\n",
       "    }\n",
       "\n",
       "    .dataframe thead th {\n",
       "        text-align: right;\n",
       "    }\n",
       "</style>\n",
       "<table border=\"1\" class=\"dataframe\">\n",
       "  <thead>\n",
       "    <tr style=\"text-align: right;\">\n",
       "      <th></th>\n",
       "      <th>Real_price</th>\n",
       "      <th>predicted_prices</th>\n",
       "      <th>difference</th>\n",
       "    </tr>\n",
       "  </thead>\n",
       "  <tbody>\n",
       "    <tr>\n",
       "      <th>0</th>\n",
       "      <td>7995</td>\n",
       "      <td>11882</td>\n",
       "      <td>3887</td>\n",
       "    </tr>\n",
       "    <tr>\n",
       "      <th>1</th>\n",
       "      <td>7450</td>\n",
       "      <td>7543</td>\n",
       "      <td>93</td>\n",
       "    </tr>\n",
       "    <tr>\n",
       "      <th>2</th>\n",
       "      <td>4500</td>\n",
       "      <td>4974</td>\n",
       "      <td>474</td>\n",
       "    </tr>\n",
       "    <tr>\n",
       "      <th>3</th>\n",
       "      <td>6500</td>\n",
       "      <td>5755</td>\n",
       "      <td>745</td>\n",
       "    </tr>\n",
       "    <tr>\n",
       "      <th>4</th>\n",
       "      <td>3500</td>\n",
       "      <td>3218</td>\n",
       "      <td>282</td>\n",
       "    </tr>\n",
       "    <tr>\n",
       "      <th>5</th>\n",
       "      <td>39785</td>\n",
       "      <td>41682</td>\n",
       "      <td>1897</td>\n",
       "    </tr>\n",
       "    <tr>\n",
       "      <th>6</th>\n",
       "      <td>9990</td>\n",
       "      <td>9164</td>\n",
       "      <td>826</td>\n",
       "    </tr>\n",
       "    <tr>\n",
       "      <th>7</th>\n",
       "      <td>3995</td>\n",
       "      <td>4464</td>\n",
       "      <td>469</td>\n",
       "    </tr>\n",
       "    <tr>\n",
       "      <th>8</th>\n",
       "      <td>6500</td>\n",
       "      <td>5760</td>\n",
       "      <td>740</td>\n",
       "    </tr>\n",
       "    <tr>\n",
       "      <th>9</th>\n",
       "      <td>17590</td>\n",
       "      <td>16765</td>\n",
       "      <td>825</td>\n",
       "    </tr>\n",
       "    <tr>\n",
       "      <th>10</th>\n",
       "      <td>6999</td>\n",
       "      <td>7578</td>\n",
       "      <td>579</td>\n",
       "    </tr>\n",
       "    <tr>\n",
       "      <th>11</th>\n",
       "      <td>12975</td>\n",
       "      <td>17146</td>\n",
       "      <td>4171</td>\n",
       "    </tr>\n",
       "    <tr>\n",
       "      <th>12</th>\n",
       "      <td>18800</td>\n",
       "      <td>16657</td>\n",
       "      <td>2143</td>\n",
       "    </tr>\n",
       "    <tr>\n",
       "      <th>13</th>\n",
       "      <td>2999</td>\n",
       "      <td>2755</td>\n",
       "      <td>244</td>\n",
       "    </tr>\n",
       "    <tr>\n",
       "      <th>14</th>\n",
       "      <td>3600</td>\n",
       "      <td>4705</td>\n",
       "      <td>1105</td>\n",
       "    </tr>\n",
       "    <tr>\n",
       "      <th>15</th>\n",
       "      <td>11450</td>\n",
       "      <td>21092</td>\n",
       "      <td>9642</td>\n",
       "    </tr>\n",
       "    <tr>\n",
       "      <th>16</th>\n",
       "      <td>14990</td>\n",
       "      <td>13302</td>\n",
       "      <td>1688</td>\n",
       "    </tr>\n",
       "    <tr>\n",
       "      <th>17</th>\n",
       "      <td>4995</td>\n",
       "      <td>7796</td>\n",
       "      <td>2801</td>\n",
       "    </tr>\n",
       "    <tr>\n",
       "      <th>18</th>\n",
       "      <td>41990</td>\n",
       "      <td>48884</td>\n",
       "      <td>6894</td>\n",
       "    </tr>\n",
       "    <tr>\n",
       "      <th>19</th>\n",
       "      <td>4500</td>\n",
       "      <td>4824</td>\n",
       "      <td>324</td>\n",
       "    </tr>\n",
       "    <tr>\n",
       "      <th>20</th>\n",
       "      <td>34990</td>\n",
       "      <td>34973</td>\n",
       "      <td>17</td>\n",
       "    </tr>\n",
       "    <tr>\n",
       "      <th>21</th>\n",
       "      <td>3695</td>\n",
       "      <td>4564</td>\n",
       "      <td>869</td>\n",
       "    </tr>\n",
       "    <tr>\n",
       "      <th>22</th>\n",
       "      <td>25990</td>\n",
       "      <td>27034</td>\n",
       "      <td>1044</td>\n",
       "    </tr>\n",
       "    <tr>\n",
       "      <th>23</th>\n",
       "      <td>6000</td>\n",
       "      <td>10124</td>\n",
       "      <td>4124</td>\n",
       "    </tr>\n",
       "    <tr>\n",
       "      <th>24</th>\n",
       "      <td>4950</td>\n",
       "      <td>3467</td>\n",
       "      <td>1483</td>\n",
       "    </tr>\n",
       "    <tr>\n",
       "      <th>25</th>\n",
       "      <td>3000</td>\n",
       "      <td>2994</td>\n",
       "      <td>6</td>\n",
       "    </tr>\n",
       "    <tr>\n",
       "      <th>26</th>\n",
       "      <td>6500</td>\n",
       "      <td>5077</td>\n",
       "      <td>1423</td>\n",
       "    </tr>\n",
       "    <tr>\n",
       "      <th>27</th>\n",
       "      <td>13988</td>\n",
       "      <td>11586</td>\n",
       "      <td>2402</td>\n",
       "    </tr>\n",
       "    <tr>\n",
       "      <th>28</th>\n",
       "      <td>12995</td>\n",
       "      <td>12588</td>\n",
       "      <td>407</td>\n",
       "    </tr>\n",
       "    <tr>\n",
       "      <th>29</th>\n",
       "      <td>12000</td>\n",
       "      <td>8339</td>\n",
       "      <td>3661</td>\n",
       "    </tr>\n",
       "    <tr>\n",
       "      <th>30</th>\n",
       "      <td>6750</td>\n",
       "      <td>7302</td>\n",
       "      <td>552</td>\n",
       "    </tr>\n",
       "    <tr>\n",
       "      <th>31</th>\n",
       "      <td>19990</td>\n",
       "      <td>23761</td>\n",
       "      <td>3771</td>\n",
       "    </tr>\n",
       "    <tr>\n",
       "      <th>32</th>\n",
       "      <td>11499</td>\n",
       "      <td>10427</td>\n",
       "      <td>1072</td>\n",
       "    </tr>\n",
       "    <tr>\n",
       "      <th>33</th>\n",
       "      <td>9950</td>\n",
       "      <td>10457</td>\n",
       "      <td>507</td>\n",
       "    </tr>\n",
       "    <tr>\n",
       "      <th>34</th>\n",
       "      <td>17900</td>\n",
       "      <td>17251</td>\n",
       "      <td>649</td>\n",
       "    </tr>\n",
       "    <tr>\n",
       "      <th>35</th>\n",
       "      <td>2650</td>\n",
       "      <td>2677</td>\n",
       "      <td>27</td>\n",
       "    </tr>\n",
       "    <tr>\n",
       "      <th>36</th>\n",
       "      <td>7990</td>\n",
       "      <td>8998</td>\n",
       "      <td>1008</td>\n",
       "    </tr>\n",
       "    <tr>\n",
       "      <th>37</th>\n",
       "      <td>10777</td>\n",
       "      <td>13061</td>\n",
       "      <td>2284</td>\n",
       "    </tr>\n",
       "    <tr>\n",
       "      <th>38</th>\n",
       "      <td>1800</td>\n",
       "      <td>2454</td>\n",
       "      <td>654</td>\n",
       "    </tr>\n",
       "    <tr>\n",
       "      <th>39</th>\n",
       "      <td>19975</td>\n",
       "      <td>16655</td>\n",
       "      <td>3320</td>\n",
       "    </tr>\n",
       "    <tr>\n",
       "      <th>40</th>\n",
       "      <td>4200</td>\n",
       "      <td>6115</td>\n",
       "      <td>1915</td>\n",
       "    </tr>\n",
       "    <tr>\n",
       "      <th>41</th>\n",
       "      <td>9499</td>\n",
       "      <td>10584</td>\n",
       "      <td>1085</td>\n",
       "    </tr>\n",
       "    <tr>\n",
       "      <th>42</th>\n",
       "      <td>6300</td>\n",
       "      <td>6344</td>\n",
       "      <td>44</td>\n",
       "    </tr>\n",
       "    <tr>\n",
       "      <th>43</th>\n",
       "      <td>10500</td>\n",
       "      <td>9361</td>\n",
       "      <td>1139</td>\n",
       "    </tr>\n",
       "    <tr>\n",
       "      <th>44</th>\n",
       "      <td>6200</td>\n",
       "      <td>6508</td>\n",
       "      <td>308</td>\n",
       "    </tr>\n",
       "    <tr>\n",
       "      <th>45</th>\n",
       "      <td>3695</td>\n",
       "      <td>3638</td>\n",
       "      <td>57</td>\n",
       "    </tr>\n",
       "    <tr>\n",
       "      <th>46</th>\n",
       "      <td>8995</td>\n",
       "      <td>7071</td>\n",
       "      <td>1924</td>\n",
       "    </tr>\n",
       "    <tr>\n",
       "      <th>47</th>\n",
       "      <td>25946</td>\n",
       "      <td>23123</td>\n",
       "      <td>2823</td>\n",
       "    </tr>\n",
       "    <tr>\n",
       "      <th>48</th>\n",
       "      <td>2000</td>\n",
       "      <td>5706</td>\n",
       "      <td>3706</td>\n",
       "    </tr>\n",
       "    <tr>\n",
       "      <th>49</th>\n",
       "      <td>7999</td>\n",
       "      <td>10509</td>\n",
       "      <td>2510</td>\n",
       "    </tr>\n",
       "  </tbody>\n",
       "</table>\n",
       "</div>"
      ],
      "text/plain": [
       "    Real_price  predicted_prices  difference\n",
       "0         7995             11882        3887\n",
       "1         7450              7543          93\n",
       "2         4500              4974         474\n",
       "3         6500              5755         745\n",
       "4         3500              3218         282\n",
       "5        39785             41682        1897\n",
       "6         9990              9164         826\n",
       "7         3995              4464         469\n",
       "8         6500              5760         740\n",
       "9        17590             16765         825\n",
       "10        6999              7578         579\n",
       "11       12975             17146        4171\n",
       "12       18800             16657        2143\n",
       "13        2999              2755         244\n",
       "14        3600              4705        1105\n",
       "15       11450             21092        9642\n",
       "16       14990             13302        1688\n",
       "17        4995              7796        2801\n",
       "18       41990             48884        6894\n",
       "19        4500              4824         324\n",
       "20       34990             34973          17\n",
       "21        3695              4564         869\n",
       "22       25990             27034        1044\n",
       "23        6000             10124        4124\n",
       "24        4950              3467        1483\n",
       "25        3000              2994           6\n",
       "26        6500              5077        1423\n",
       "27       13988             11586        2402\n",
       "28       12995             12588         407\n",
       "29       12000              8339        3661\n",
       "30        6750              7302         552\n",
       "31       19990             23761        3771\n",
       "32       11499             10427        1072\n",
       "33        9950             10457         507\n",
       "34       17900             17251         649\n",
       "35        2650              2677          27\n",
       "36        7990              8998        1008\n",
       "37       10777             13061        2284\n",
       "38        1800              2454         654\n",
       "39       19975             16655        3320\n",
       "40        4200              6115        1915\n",
       "41        9499             10584        1085\n",
       "42        6300              6344          44\n",
       "43       10500              9361        1139\n",
       "44        6200              6508         308\n",
       "45        3695              3638          57\n",
       "46        8995              7071        1924\n",
       "47       25946             23123        2823\n",
       "48        2000              5706        3706\n",
       "49        7999             10509        2510"
      ]
     },
     "execution_count": 134,
     "metadata": {},
     "output_type": "execute_result"
    }
   ],
   "source": [
    "final_df = test_target0.values\n",
    "final_df = pd.DataFrame(final_df,columns=['Real_price'])\n",
    "final_df['predicted_prices'] = lgb_predict.astype(int)\n",
    "final_df['difference'] = abs(final_df['Real_price'] - final_df['predicted_prices']).astype(int)\n",
    "final_df.head(50)"
   ]
  },
  {
   "cell_type": "code",
   "execution_count": 135,
   "id": "e38bae9a",
   "metadata": {},
   "outputs": [
    {
     "data": {
      "text/plain": [
       "7578.340028791844"
      ]
     },
     "execution_count": 135,
     "metadata": {},
     "output_type": "execute_result"
    }
   ],
   "source": [
    "lgb_predict[10]"
   ]
  },
  {
   "cell_type": "code",
   "execution_count": 136,
   "id": "95990f19",
   "metadata": {},
   "outputs": [
    {
     "data": {
      "text/plain": [
       "6115.071528179269"
      ]
     },
     "execution_count": 136,
     "metadata": {},
     "output_type": "execute_result"
    }
   ],
   "source": [
    "import joblib\n",
    "filename = 'vehicle_price_prediction_model.sav'\n",
    "joblib.dump(modelL,filename)"
   ]
  },
  {
   "cell_type": "code",
   "execution_count": null,
   "id": "00a105de",
   "metadata": {},
   "outputs": [],
   "source": [
    "import joblib\n",
    "filename = 'vehicle_price_prediction_model.sav'\n",
    "joblib.dump(modelL,filename)"
   ]
  }
 ],
 "metadata": {
  "kernelspec": {
   "display_name": "Python 3",
   "language": "python",
   "name": "python3"
  },
  "language_info": {
   "codemirror_mode": {
    "name": "ipython",
    "version": 3
   },
   "file_extension": ".py",
   "mimetype": "text/x-python",
   "name": "python",
   "nbconvert_exporter": "python",
   "pygments_lexer": "ipython3",
   "version": "3.9.0"
  }
 },
 "nbformat": 4,
 "nbformat_minor": 5
}
